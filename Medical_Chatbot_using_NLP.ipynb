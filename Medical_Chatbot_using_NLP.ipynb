{
  "cells": [
    {
      "cell_type": "markdown",
      "source": [
        "# Medical Chatbot using NLP\n",
        "\n",
        "*Developed by Shrouq Ahmad Aldalbahi*\n",
        "\n",
        "---\n",
        "\n",
        "## Table of Contents\n",
        "- [Problem Statement](#problem-statement)\n",
        "- [Dataset](#dataset)\n",
        "- [Preprocessing](#preprocessing)\n",
        "- [Text Representation](#text-representation)\n",
        "- [Conclusion](#conclusion)\n",
        "- [References](#references)\n",
        "\n",
        "---\n",
        "\n",
        "## Problem Statement\n",
        "The goal of this project is to develop an NLP-based chatbot capable of accurately answering a wide range of medical inquiries.  \n",
        "- **Motivation**: Improve healthcare accessibility and bridge gaps in medical knowledge.  \n",
        "- **Expected Result**: Provide accurate, reliable, and understandable medical information in response to user queries.  \n",
        "\n",
        "---\n",
        "\n",
        "## Dataset\n",
        "- Dataset: The dataset chosen for this project is a medical question-answer dataset (medquad.csv) https://www.kaggle.com\n",
        "- Reason for Choice: This dataset is selected due to its relevance to the medical field and its potential for building a chatbot that can accurately answer medical inquiries. The dataset contains real questions and answers, making it ideal for training an NLP model in the context of medical consultations.\n"
      ],
      "metadata": {
        "id": "pA3v6c0unBsd"
      },
      "id": "pA3v6c0unBsd"
    },
    {
      "cell_type": "markdown",
      "id": "d11bac81",
      "metadata": {
        "id": "d11bac81"
      },
      "source": [
        "# Import Required Libraries"
      ]
    },
    {
      "cell_type": "code",
      "source": [
        "# Core\n",
        "import random\n",
        "import string\n",
        "import numpy as np\n",
        "import pandas as pd\n",
        "\n",
        "# NLP\n",
        "import nltk\n",
        "from nltk.corpus import stopwords\n",
        "from nltk.tokenize import word_tokenize\n",
        "\n",
        "# Vectorization & Similarity\n",
        "from sklearn.feature_extraction.text import TfidfVectorizer\n",
        "from sklearn.metrics.pairwise import cosine_similarity\n"
      ],
      "metadata": {
        "id": "bfkKfxWan5Wd"
      },
      "id": "bfkKfxWan5Wd",
      "execution_count": 1,
      "outputs": []
    },
    {
      "cell_type": "code",
      "source": [
        "medquad_data =pd.read_csv(r\"C:\\Users\\shrog ahmad\\Desktop\\mastr's M\\NLP\\IT9002_Shrouq_202306742\\medquad.csv\")"
      ],
      "metadata": {
        "id": "Gq6lJ_rYoFir"
      },
      "id": "Gq6lJ_rYoFir",
      "execution_count": null,
      "outputs": []
    },
    {
      "cell_type": "markdown",
      "id": "510ca68e",
      "metadata": {
        "id": "510ca68e"
      },
      "source": [
        "## Data Understanding"
      ]
    },
    {
      "cell_type": "code",
      "execution_count": null,
      "id": "afbfb677",
      "metadata": {
        "id": "afbfb677",
        "outputId": "b5c6aad6-fab5-45c9-926e-90d3ac137c12"
      },
      "outputs": [
        {
          "data": {
            "text/html": [
              "<div>\n",
              "<style scoped>\n",
              "    .dataframe tbody tr th:only-of-type {\n",
              "        vertical-align: middle;\n",
              "    }\n",
              "\n",
              "    .dataframe tbody tr th {\n",
              "        vertical-align: top;\n",
              "    }\n",
              "\n",
              "    .dataframe thead th {\n",
              "        text-align: right;\n",
              "    }\n",
              "</style>\n",
              "<table border=\"1\" class=\"dataframe\">\n",
              "  <thead>\n",
              "    <tr style=\"text-align: right;\">\n",
              "      <th></th>\n",
              "      <th>question</th>\n",
              "      <th>answer</th>\n",
              "      <th>source</th>\n",
              "      <th>focus_area</th>\n",
              "    </tr>\n",
              "  </thead>\n",
              "  <tbody>\n",
              "    <tr>\n",
              "      <th>0</th>\n",
              "      <td>What is (are) Glaucoma ?</td>\n",
              "      <td>Glaucoma is a group of diseases that can damag...</td>\n",
              "      <td>NIHSeniorHealth</td>\n",
              "      <td>Glaucoma</td>\n",
              "    </tr>\n",
              "    <tr>\n",
              "      <th>1</th>\n",
              "      <td>What causes Glaucoma ?</td>\n",
              "      <td>Nearly 2.7 million people have glaucoma, a lea...</td>\n",
              "      <td>NIHSeniorHealth</td>\n",
              "      <td>Glaucoma</td>\n",
              "    </tr>\n",
              "    <tr>\n",
              "      <th>2</th>\n",
              "      <td>What are the symptoms of Glaucoma ?</td>\n",
              "      <td>Symptoms of Glaucoma  Glaucoma can develop in ...</td>\n",
              "      <td>NIHSeniorHealth</td>\n",
              "      <td>Glaucoma</td>\n",
              "    </tr>\n",
              "    <tr>\n",
              "      <th>3</th>\n",
              "      <td>What are the treatments for Glaucoma ?</td>\n",
              "      <td>Although open-angle glaucoma cannot be cured, ...</td>\n",
              "      <td>NIHSeniorHealth</td>\n",
              "      <td>Glaucoma</td>\n",
              "    </tr>\n",
              "    <tr>\n",
              "      <th>4</th>\n",
              "      <td>What is (are) Glaucoma ?</td>\n",
              "      <td>Glaucoma is a group of diseases that can damag...</td>\n",
              "      <td>NIHSeniorHealth</td>\n",
              "      <td>Glaucoma</td>\n",
              "    </tr>\n",
              "  </tbody>\n",
              "</table>\n",
              "</div>"
            ],
            "text/plain": [
              "                                 question  \\\n",
              "0                What is (are) Glaucoma ?   \n",
              "1                  What causes Glaucoma ?   \n",
              "2     What are the symptoms of Glaucoma ?   \n",
              "3  What are the treatments for Glaucoma ?   \n",
              "4                What is (are) Glaucoma ?   \n",
              "\n",
              "                                              answer           source  \\\n",
              "0  Glaucoma is a group of diseases that can damag...  NIHSeniorHealth   \n",
              "1  Nearly 2.7 million people have glaucoma, a lea...  NIHSeniorHealth   \n",
              "2  Symptoms of Glaucoma  Glaucoma can develop in ...  NIHSeniorHealth   \n",
              "3  Although open-angle glaucoma cannot be cured, ...  NIHSeniorHealth   \n",
              "4  Glaucoma is a group of diseases that can damag...  NIHSeniorHealth   \n",
              "\n",
              "  focus_area  \n",
              "0   Glaucoma  \n",
              "1   Glaucoma  \n",
              "2   Glaucoma  \n",
              "3   Glaucoma  \n",
              "4   Glaucoma  "
            ]
          },
          "execution_count": 34,
          "metadata": {},
          "output_type": "execute_result"
        }
      ],
      "source": [
        "medquad_data.head()"
      ]
    },
    {
      "cell_type": "markdown",
      "id": "a7261b5b",
      "metadata": {
        "id": "a7261b5b"
      },
      "source": [
        "- Data Snapshot: The dataset contains columns for questions, answers, source, and focus area, offering a comprehensive view of various medical inquiries and their corresponding responses."
      ]
    },
    {
      "cell_type": "code",
      "execution_count": null,
      "id": "e0d8b449",
      "metadata": {
        "id": "e0d8b449",
        "outputId": "2eaa3a72-1d90-47aa-affb-5936b9df6161"
      },
      "outputs": [
        {
          "data": {
            "text/plain": [
              "(16412, 4)"
            ]
          },
          "metadata": {},
          "output_type": "display_data"
        }
      ],
      "source": [
        "display(medquad_data.shape)"
      ]
    },
    {
      "cell_type": "markdown",
      "id": "2da7ca3a",
      "metadata": {
        "id": "2da7ca3a"
      },
      "source": [
        "- Shape of the Dataset: The dataset contains 16,412 entries, each with four attributes. This substantial size indicates a rich and diverse set of data points for training the NLP model."
      ]
    },
    {
      "cell_type": "code",
      "execution_count": null,
      "id": "934618cc",
      "metadata": {
        "id": "934618cc",
        "outputId": "c5541a4a-992d-4a40-c7b0-df798894aae9"
      },
      "outputs": [
        {
          "data": {
            "image/png": "[encoded data removed]",
            "text/plain": [
              "<Figure size 1200x600 with 1 Axes>"
            ]
          },
          "metadata": {},
          "output_type": "display_data"
        },
        {
          "data": {
            "text/plain": [
              "count    14984.000000\n",
              "mean         1.094968\n",
              "std          0.566234\n",
              "min          0.000000\n",
              "25%          1.000000\n",
              "50%          1.000000\n",
              "75%          1.000000\n",
              "max         20.000000\n",
              "Name: answer, dtype: float64"
            ]
          },
          "execution_count": 36,
          "metadata": {},
          "output_type": "execute_result"
        }
      ],
      "source": [
        "# Calculating the number of reference answers per question\n",
        "num_answers_per_question = medquad_data.groupby('question')['answer'].count()\n",
        "\n",
        "# Visualizing the distribution of the number of reference answers per question\n",
        "plt.figure(figsize=(12, 6))\n",
        "sns.histplot(num_answers_per_question, bins=50, kde=False)\n",
        "plt.title('Distribution of the Number of Reference Answers per Question')\n",
        "plt.xlabel('Number of Answers per Question')\n",
        "plt.ylabel('Frequency')\n",
        "plt.show()\n",
        "\n",
        "num_answers_per_question.describe()  # Displaying statistical summary of the distribution\n",
        "\n"
      ]
    },
    {
      "cell_type": "markdown",
      "id": "26127a12",
      "metadata": {
        "id": "26127a12"
      },
      "source": [
        "- The visualization and statistical summary provide insights into the distribution of the number of reference answers per question in dataset"
      ]
    },
    {
      "cell_type": "markdown",
      "id": "42591950",
      "metadata": {
        "id": "42591950"
      },
      "source": [
        "- Distribution Summary\n",
        "- Count: There are 14,984 unique questions in the dataset.\n",
        "- Mean: On average, each question has about 1.09 answers.\n",
        "- 25th Percentile: 75% of the questions have 1 or more answers.\n",
        "- 50th Percentile (Median): Half of the questions have exactly 1 answer.\n",
        "- 75th Percentile: Most questions (75%) have 1 answer, indicating that the majority of questions have a single reference answer.\n",
        "- Maximum: The maximum number of answers for a single question is 20, suggesting some questions have multiple reference answers."
      ]
    },
    {
      "cell_type": "code",
      "execution_count": null,
      "id": "64b57722",
      "metadata": {
        "id": "64b57722"
      },
      "outputs": [],
      "source": [
        "# Checking the unique labels in the 'focus_area' column\n",
        "unique_labels = medquad_data['focus_area'].unique()\n",
        "num_labels = len(unique_labels)\n",
        "\n",
        "# Displaying the unique labels and their count\n",
        "unique_labels, num_labels\n",
        "\n",
        "# Visualizing the distribution of the labels\n",
        "label_counts = medquad_data['focus_area'].value_counts()\n",
        "\n"
      ]
    },
    {
      "cell_type": "markdown",
      "id": "dd5229f8",
      "metadata": {
        "id": "dd5229f8"
      },
      "source": [
        "- visualizing the distribution of labels in the dataset proved to be too time-consuming. However, from the data manipulation performed earlier, I can provide some insights:\n",
        "\n",
        "- Unique Labels: The dataset contains a diverse range of labels under the 'focus_area' category. These labels represent different medical topics or domains.\n",
        "\n",
        "- Number of Unique Labels: The total number of unique labels (distinct medical focus areas) in the dataset is substantial, indicating a wide coverage of medical topics.\n",
        "\n",
        "- Label Distribution: Although the exact distribution couldn't be visualized, the dataset likely features a varied representation of medical topics, with some areas possibly more frequently represented than others.\n"
      ]
    },
    {
      "cell_type": "code",
      "execution_count": null,
      "id": "012c292e",
      "metadata": {
        "id": "012c292e"
      },
      "outputs": [],
      "source": [
        "# plt.figure(figsize=(12, 8))\n",
        "# sns.barplot(x=label_counts.values, y=label_counts.index)\n",
        "# plt.title('Distribution of Labels (Focus Areas) in the Dataset')\n",
        "# plt.xlabel('Count')\n",
        "# plt.ylabel('Focus Area')\n",
        "# plt.show()\n"
      ]
    },
    {
      "cell_type": "code",
      "execution_count": null,
      "id": "5dcd179c",
      "metadata": {
        "id": "5dcd179c",
        "outputId": "f23f639c-821e-4fb5-a3cb-c08f2f94dbaa"
      },
      "outputs": [
        {
          "data": {
            "text/html": [
              "<div>\n",
              "<style scoped>\n",
              "    .dataframe tbody tr th:only-of-type {\n",
              "        vertical-align: middle;\n",
              "    }\n",
              "\n",
              "    .dataframe tbody tr th {\n",
              "        vertical-align: top;\n",
              "    }\n",
              "\n",
              "    .dataframe thead th {\n",
              "        text-align: right;\n",
              "    }\n",
              "</style>\n",
              "<table border=\"1\" class=\"dataframe\">\n",
              "  <thead>\n",
              "    <tr style=\"text-align: right;\">\n",
              "      <th></th>\n",
              "      <th>question</th>\n",
              "      <th>focus_area</th>\n",
              "      <th>focus_area_numeric</th>\n",
              "    </tr>\n",
              "  </thead>\n",
              "  <tbody>\n",
              "    <tr>\n",
              "      <th>0</th>\n",
              "      <td>What is (are) Glaucoma ?</td>\n",
              "      <td>Glaucoma</td>\n",
              "      <td>1700</td>\n",
              "    </tr>\n",
              "    <tr>\n",
              "      <th>1</th>\n",
              "      <td>What causes Glaucoma ?</td>\n",
              "      <td>Glaucoma</td>\n",
              "      <td>1700</td>\n",
              "    </tr>\n",
              "    <tr>\n",
              "      <th>2</th>\n",
              "      <td>What are the symptoms of Glaucoma ?</td>\n",
              "      <td>Glaucoma</td>\n",
              "      <td>1700</td>\n",
              "    </tr>\n",
              "    <tr>\n",
              "      <th>3</th>\n",
              "      <td>What are the treatments for Glaucoma ?</td>\n",
              "      <td>Glaucoma</td>\n",
              "      <td>1700</td>\n",
              "    </tr>\n",
              "    <tr>\n",
              "      <th>4</th>\n",
              "      <td>What is (are) Glaucoma ?</td>\n",
              "      <td>Glaucoma</td>\n",
              "      <td>1700</td>\n",
              "    </tr>\n",
              "  </tbody>\n",
              "</table>\n",
              "</div>"
            ],
            "text/plain": [
              "                                 question focus_area  focus_area_numeric\n",
              "0                What is (are) Glaucoma ?   Glaucoma                1700\n",
              "1                  What causes Glaucoma ?   Glaucoma                1700\n",
              "2     What are the symptoms of Glaucoma ?   Glaucoma                1700\n",
              "3  What are the treatments for Glaucoma ?   Glaucoma                1700\n",
              "4                What is (are) Glaucoma ?   Glaucoma                1700"
            ]
          },
          "execution_count": 39,
          "metadata": {},
          "output_type": "execute_result"
        }
      ],
      "source": [
        "# Converting categorical labels to numbers\n",
        "label_encoder = LabelEncoder()\n",
        "medquad_data['focus_area_numeric'] = label_encoder.fit_transform(medquad_data['focus_area'])\n",
        "\n",
        "# Displaying the first few rows of the dataset with numeric labels\n",
        "medquad_data[['question', 'focus_area', 'focus_area_numeric']].head()\n"
      ]
    },
    {
      "cell_type": "markdown",
      "id": "e7104996",
      "metadata": {
        "id": "e7104996"
      },
      "source": [
        "- Each unique 'focus_area' is now represented by a unique number in the 'focus_area_numeric' column, facilitating the use of these labels in various machine learning algorithms that require numerical input"
      ]
    },
    {
      "cell_type": "markdown",
      "id": "49976af0",
      "metadata": {
        "id": "49976af0"
      },
      "source": [
        "## Text Preprocessing\n"
      ]
    },
    {
      "cell_type": "markdown",
      "id": "6cde1525",
      "metadata": {
        "id": "6cde1525"
      },
      "source": [
        "Text preprocessing is an essential step in natural language processing tasks as it helps to clean and transform raw text into a more structured format that can be easily understood by machine learning algorithms, I employed several text preprocessing techniques, including tokenization, stopword removal, lemmatization, and normalization."
      ]
    },
    {
      "cell_type": "code",
      "execution_count": null,
      "id": "67936f70",
      "metadata": {
        "id": "67936f70",
        "outputId": "745ea6a5-a3aa-4d06-8d62-041f947b1294"
      },
      "outputs": [
        {
          "name": "stderr",
          "output_type": "stream",
          "text": [
            "[nltk_data] Downloading package punkt to C:\\Users\\shrog\n",
            "[nltk_data]     ahmad\\AppData\\Roaming\\nltk_data...\n",
            "[nltk_data]   Package punkt is already up-to-date!\n",
            "[nltk_data] Downloading package wordnet to C:\\Users\\shrog\n",
            "[nltk_data]     ahmad\\AppData\\Roaming\\nltk_data...\n",
            "[nltk_data]   Package wordnet is already up-to-date!\n",
            "[nltk_data] Downloading package omw-1.4 to C:\\Users\\shrog\n",
            "[nltk_data]     ahmad\\AppData\\Roaming\\nltk_data...\n",
            "[nltk_data]   Package omw-1.4 is already up-to-date!\n"
          ]
        }
      ],
      "source": [
        "# Extracting questions and answers\n",
        "questions = medquad_data['question'].tolist()\n",
        "answers = medquad_data['answer'].tolist()\n",
        "\n",
        "# Download necessary NLTK data\n",
        "nltk.download('punkt')\n",
        "nltk.download('wordnet')\n",
        "nltk.download('omw-1.4')\n",
        "\n",
        "# Tokenization,Lemmatization ,normalization\n",
        "lemmer = nltk.stem.WordNetLemmatizer()\n",
        "def LemTokens(tokens):\n",
        "    return [lemmer.lemmatize(token) for token in tokens]\n",
        "\n",
        "remove_punc_dict = dict((ord(punct), None) for punct in string.punctuation)\n",
        "def LemNormalize(text):\n",
        "    return LemTokens(nltk.word_tokenize(text.lower().translate(remove_punc_dict)))\n"
      ]
    },
    {
      "cell_type": "code",
      "execution_count": null,
      "id": "a82b58d4",
      "metadata": {
        "id": "a82b58d4",
        "outputId": "bb0c48bb-3011-4fe5-c47e-8327d0ef0b9f"
      },
      "outputs": [
        {
          "name": "stderr",
          "output_type": "stream",
          "text": [
            "[nltk_data] Downloading package stopwords to C:\\Users\\shrog\n",
            "[nltk_data]     ahmad\\AppData\\Roaming\\nltk_data...\n",
            "[nltk_data]   Package stopwords is already up-to-date!\n"
          ]
        }
      ],
      "source": [
        "# Download stopwords\n",
        "nltk.download('stopwords')\n",
        "# Get the list of stopwords\n",
        "stop_words = set(stopwords.words('english'))"
      ]
    },
    {
      "cell_type": "code",
      "execution_count": null,
      "id": "bc9c5cbc",
      "metadata": {
        "id": "bc9c5cbc",
        "outputId": "8611d3f2-bbb4-445b-eac6-7f6568ebcbe3"
      },
      "outputs": [
        {
          "name": "stdout",
          "output_type": "stream",
          "text": [
            "Original Question: What is (are) Glaucoma ?\n",
            "Tokenized Question: ['What', 'is', '(', 'are', ')', 'Glaucoma', '?']\n",
            "Lemmatized Question (LemTokens): What is ( are ) Glaucoma ?\n",
            "Normalized Question (LemNormalize): what is are glaucoma\n",
            "Filtered Question (Stopword Removal): ['(', ')', 'Glaucoma', '?']\n",
            "\n",
            "Original Answer: Glaucoma is a group of diseases that can damage the eye's optic nerve and result in vision loss and blindness. While glaucoma can strike anyone, the risk is much greater for people over 60. How Glaucoma Develops  There are several different types of glaucoma. Most of these involve the drainage system within the eye. At the front of the eye there is a small space called the anterior chamber. A clear fluid flows through this chamber and bathes and nourishes the nearby tissues. (Watch the video to learn more about glaucoma. To enlarge the video, click the brackets in the lower right-hand corner. To reduce the video, press the Escape (Esc) button on your keyboard.) In glaucoma, for still unknown reasons, the fluid drains too slowly out of the eye. As the fluid builds up, the pressure inside the eye rises. Unless this pressure is controlled, it may cause damage to the optic nerve and other parts of the eye and result in loss of vision. Open-angle Glaucoma The most common type of glaucoma is called open-angle glaucoma. In the normal eye, the clear fluid leaves the anterior chamber at the open angle where the cornea and iris meet. When fluid reaches the angle, it flows through a spongy meshwork, like a drain, and leaves the eye. Sometimes, when the fluid reaches the angle, it passes too slowly through the meshwork drain, causing the pressure inside the eye to build. If the pressure damages the optic nerve, open-angle glaucoma -- and vision loss -- may result. There is no cure for glaucoma. Vision lost from the disease cannot be restored. However, there are treatments that may save remaining vision. That is why early diagnosis is important.  See this graphic for a quick overview of glaucoma,  including how many people it affects, whos at risk, what to do if you have it, and how to learn more.  See a glossary of glaucoma terms.\n",
            "Tokenized Answer: ['Glaucoma', 'is', 'a', 'group', 'of', 'diseases', 'that', 'can', 'damage', 'the', 'eye', \"'s\", 'optic', 'nerve', 'and', 'result', 'in', 'vision', 'loss', 'and', 'blindness', '.', 'While', 'glaucoma', 'can', 'strike', 'anyone', ',', 'the', 'risk', 'is', 'much', 'greater', 'for', 'people', 'over', '60', '.', 'How', 'Glaucoma', 'Develops', 'There', 'are', 'several', 'different', 'types', 'of', 'glaucoma', '.', 'Most', 'of', 'these', 'involve', 'the', 'drainage', 'system', 'within', 'the', 'eye', '.', 'At', 'the', 'front', 'of', 'the', 'eye', 'there', 'is', 'a', 'small', 'space', 'called', 'the', 'anterior', 'chamber', '.', 'A', 'clear', 'fluid', 'flows', 'through', 'this', 'chamber', 'and', 'bathes', 'and', 'nourishes', 'the', 'nearby', 'tissues', '.', '(', 'Watch', 'the', 'video', 'to', 'learn', 'more', 'about', 'glaucoma', '.', 'To', 'enlarge', 'the', 'video', ',', 'click', 'the', 'brackets', 'in', 'the', 'lower', 'right-hand', 'corner', '.', 'To', 'reduce', 'the', 'video', ',', 'press', 'the', 'Escape', '(', 'Esc', ')', 'button', 'on', 'your', 'keyboard', '.', ')', 'In', 'glaucoma', ',', 'for', 'still', 'unknown', 'reasons', ',', 'the', 'fluid', 'drains', 'too', 'slowly', 'out', 'of', 'the', 'eye', '.', 'As', 'the', 'fluid', 'builds', 'up', ',', 'the', 'pressure', 'inside', 'the', 'eye', 'rises', '.', 'Unless', 'this', 'pressure', 'is', 'controlled', ',', 'it', 'may', 'cause', 'damage', 'to', 'the', 'optic', 'nerve', 'and', 'other', 'parts', 'of', 'the', 'eye', 'and', 'result', 'in', 'loss', 'of', 'vision', '.', 'Open-angle', 'Glaucoma', 'The', 'most', 'common', 'type', 'of', 'glaucoma', 'is', 'called', 'open-angle', 'glaucoma', '.', 'In', 'the', 'normal', 'eye', ',', 'the', 'clear', 'fluid', 'leaves', 'the', 'anterior', 'chamber', 'at', 'the', 'open', 'angle', 'where', 'the', 'cornea', 'and', 'iris', 'meet', '.', 'When', 'fluid', 'reaches', 'the', 'angle', ',', 'it', 'flows', 'through', 'a', 'spongy', 'meshwork', ',', 'like', 'a', 'drain', ',', 'and', 'leaves', 'the', 'eye', '.', 'Sometimes', ',', 'when', 'the', 'fluid', 'reaches', 'the', 'angle', ',', 'it', 'passes', 'too', 'slowly', 'through', 'the', 'meshwork', 'drain', ',', 'causing', 'the', 'pressure', 'inside', 'the', 'eye', 'to', 'build', '.', 'If', 'the', 'pressure', 'damages', 'the', 'optic', 'nerve', ',', 'open-angle', 'glaucoma', '--', 'and', 'vision', 'loss', '--', 'may', 'result', '.', 'There', 'is', 'no', 'cure', 'for', 'glaucoma', '.', 'Vision', 'lost', 'from', 'the', 'disease', 'can', 'not', 'be', 'restored', '.', 'However', ',', 'there', 'are', 'treatments', 'that', 'may', 'save', 'remaining', 'vision', '.', 'That', 'is', 'why', 'early', 'diagnosis', 'is', 'important', '.', 'See', 'this', 'graphic', 'for', 'a', 'quick', 'overview', 'of', 'glaucoma', ',', 'including', 'how', 'many', 'people', 'it', 'affects', ',', 'whos', 'at', 'risk', ',', 'what', 'to', 'do', 'if', 'you', 'have', 'it', ',', 'and', 'how', 'to', 'learn', 'more', '.', 'See', 'a', 'glossary', 'of', 'glaucoma', 'terms', '.']\n",
            "Lemmatized Answer (LemTokens): Glaucoma is a group of disease that can damage the eye 's optic nerve and result in vision loss and blindness . While glaucoma can strike anyone , the risk is much greater for people over 60 . How Glaucoma Develops There are several different type of glaucoma . Most of these involve the drainage system within the eye . At the front of the eye there is a small space called the anterior chamber . A clear fluid flow through this chamber and bathe and nourishes the nearby tissue . ( Watch the video to learn more about glaucoma . To enlarge the video , click the bracket in the lower right-hand corner . To reduce the video , press the Escape ( Esc ) button on your keyboard . ) In glaucoma , for still unknown reason , the fluid drain too slowly out of the eye . As the fluid build up , the pressure inside the eye rise . Unless this pressure is controlled , it may cause damage to the optic nerve and other part of the eye and result in loss of vision . Open-angle Glaucoma The most common type of glaucoma is called open-angle glaucoma . In the normal eye , the clear fluid leaf the anterior chamber at the open angle where the cornea and iris meet . When fluid reach the angle , it flow through a spongy meshwork , like a drain , and leaf the eye . Sometimes , when the fluid reach the angle , it pass too slowly through the meshwork drain , causing the pressure inside the eye to build . If the pressure damage the optic nerve , open-angle glaucoma -- and vision loss -- may result . There is no cure for glaucoma . Vision lost from the disease can not be restored . However , there are treatment that may save remaining vision . That is why early diagnosis is important . See this graphic for a quick overview of glaucoma , including how many people it affect , who at risk , what to do if you have it , and how to learn more . See a glossary of glaucoma term .\n",
            "Normalized Answer (LemNormalize): glaucoma is a group of disease that can damage the eye optic nerve and result in vision loss and blindness while glaucoma can strike anyone the risk is much greater for people over 60 how glaucoma develops there are several different type of glaucoma most of these involve the drainage system within the eye at the front of the eye there is a small space called the anterior chamber a clear fluid flow through this chamber and bathe and nourishes the nearby tissue watch the video to learn more about glaucoma to enlarge the video click the bracket in the lower righthand corner to reduce the video press the escape esc button on your keyboard in glaucoma for still unknown reason the fluid drain too slowly out of the eye a the fluid build up the pressure inside the eye rise unless this pressure is controlled it may cause damage to the optic nerve and other part of the eye and result in loss of vision openangle glaucoma the most common type of glaucoma is called openangle glaucoma in the normal eye the clear fluid leaf the anterior chamber at the open angle where the cornea and iris meet when fluid reach the angle it flow through a spongy meshwork like a drain and leaf the eye sometimes when the fluid reach the angle it pass too slowly through the meshwork drain causing the pressure inside the eye to build if the pressure damage the optic nerve openangle glaucoma and vision loss may result there is no cure for glaucoma vision lost from the disease can not be restored however there are treatment that may save remaining vision that is why early diagnosis is important see this graphic for a quick overview of glaucoma including how many people it affect who at risk what to do if you have it and how to learn more see a glossary of glaucoma term\n",
            "Filtered Answer (Stopword Removal): ['Glaucoma', 'group', 'diseases', 'damage', 'eye', \"'s\", 'optic', 'nerve', 'result', 'vision', 'loss', 'blindness', '.', 'glaucoma', 'strike', 'anyone', ',', 'risk', 'much', 'greater', 'people', '60', '.', 'Glaucoma', 'Develops', 'several', 'different', 'types', 'glaucoma', '.', 'involve', 'drainage', 'system', 'within', 'eye', '.', 'front', 'eye', 'small', 'space', 'called', 'anterior', 'chamber', '.', 'clear', 'fluid', 'flows', 'chamber', 'bathes', 'nourishes', 'nearby', 'tissues', '.', '(', 'Watch', 'video', 'learn', 'glaucoma', '.', 'enlarge', 'video', ',', 'click', 'brackets', 'lower', 'right-hand', 'corner', '.', 'reduce', 'video', ',', 'press', 'Escape', '(', 'Esc', ')', 'button', 'keyboard', '.', ')', 'glaucoma', ',', 'still', 'unknown', 'reasons', ',', 'fluid', 'drains', 'slowly', 'eye', '.', 'fluid', 'builds', ',', 'pressure', 'inside', 'eye', 'rises', '.', 'Unless', 'pressure', 'controlled', ',', 'may', 'cause', 'damage', 'optic', 'nerve', 'parts', 'eye', 'result', 'loss', 'vision', '.', 'Open-angle', 'Glaucoma', 'common', 'type', 'glaucoma', 'called', 'open-angle', 'glaucoma', '.', 'normal', 'eye', ',', 'clear', 'fluid', 'leaves', 'anterior', 'chamber', 'open', 'angle', 'cornea', 'iris', 'meet', '.', 'fluid', 'reaches', 'angle', ',', 'flows', 'spongy', 'meshwork', ',', 'like', 'drain', ',', 'leaves', 'eye', '.', 'Sometimes', ',', 'fluid', 'reaches', 'angle', ',', 'passes', 'slowly', 'meshwork', 'drain', ',', 'causing', 'pressure', 'inside', 'eye', 'build', '.', 'pressure', 'damages', 'optic', 'nerve', ',', 'open-angle', 'glaucoma', '--', 'vision', 'loss', '--', 'may', 'result', '.', 'cure', 'glaucoma', '.', 'Vision', 'lost', 'disease', 'restored', '.', 'However', ',', 'treatments', 'may', 'save', 'remaining', 'vision', '.', 'early', 'diagnosis', 'important', '.', 'See', 'graphic', 'quick', 'overview', 'glaucoma', ',', 'including', 'many', 'people', 'affects', ',', 'whos', 'risk', ',', ',', 'learn', '.', 'See', 'glossary', 'glaucoma', 'terms', '.']\n",
            "\n"
          ]
        }
      ],
      "source": [
        "# Print original and preprocessed text for the first three questions and answers\n",
        "for i in range(1):\n",
        "    original_q = questions[i]\n",
        "    original_a = answers[i]\n",
        "\n",
        "    # Tokenization\n",
        "    tokenized_q = nltk.word_tokenize(original_q)\n",
        "    tokenized_a = nltk.word_tokenize(original_a)\n",
        "\n",
        "    # Applying LemTokens\n",
        "    lemmatized_q = \" \".join(LemTokens(tokenized_q))\n",
        "    lemmatized_a = \" \".join(LemTokens(tokenized_a))\n",
        "\n",
        "    # Applying LemNormalize\n",
        "    normalized_q = \" \".join(LemNormalize(original_q))\n",
        "    normalized_a = \" \".join(LemNormalize(original_a))\n",
        "\n",
        "    # Stopword Removal\n",
        "    filtered_q = [word for word in tokenized_q if word.lower() not in stop_words]\n",
        "    filtered_a = [word for word in tokenized_a if word.lower() not in stop_words]\n",
        "\n",
        "    print(f\"Original Question: {original_q}\")\n",
        "    print(f\"Tokenized Question: {tokenized_q}\")\n",
        "    print(f\"Lemmatized Question (LemTokens): {lemmatized_q}\")\n",
        "    print(f\"Normalized Question (LemNormalize): {normalized_q}\")\n",
        "    print(f\"Filtered Question (Stopword Removal): {filtered_q}\\n\")\n",
        "\n",
        "    print(f\"Original Answer: {original_a}\")\n",
        "    print(f\"Tokenized Answer: {tokenized_a}\")\n",
        "    print(f\"Lemmatized Answer (LemTokens): {lemmatized_a}\")\n",
        "    print(f\"Normalized Answer (LemNormalize): {normalized_a}\")\n",
        "    print(f\"Filtered Answer (Stopword Removal): {filtered_a}\\n\")"
      ]
    },
    {
      "cell_type": "markdown",
      "id": "4eba49d9",
      "metadata": {
        "id": "4eba49d9"
      },
      "source": [
        "- By applying these preprocessing techniques, I was able to transform the raw text data into a cleaner and more structured format that could be used for further analysis and modeling in this project."
      ]
    },
    {
      "cell_type": "markdown",
      "id": "bfe087f9",
      "metadata": {
        "id": "bfe087f9"
      },
      "source": [
        "## Text Representation"
      ]
    },
    {
      "cell_type": "markdown",
      "id": "a847b2f9",
      "metadata": {
        "id": "a847b2f9"
      },
      "source": [
        "-  This step, known as text representation, is essential for translating human language into a form that algorithms can understand and analyze."
      ]
    },
    {
      "cell_type": "markdown",
      "id": "af8104d2",
      "metadata": {
        "id": "af8104d2"
      },
      "source": [
        "- Three primary text representation techniques were considered: TF-IDF (Term Frequency-Inverse Document Frequency), Bag of Words (BoW) and Word Embeddings."
      ]
    },
    {
      "cell_type": "markdown",
      "id": "e51afc70",
      "metadata": {
        "id": "e51afc70"
      },
      "source": [
        "### 1- TF-IDF"
      ]
    },
    {
      "cell_type": "code",
      "execution_count": null,
      "id": "07598d90",
      "metadata": {
        "id": "07598d90",
        "outputId": "afbd5e33-c6b9-4153-9b15-445587007277"
      },
      "outputs": [
        {
          "name": "stderr",
          "output_type": "stream",
          "text": [
            "C:\\Users\\shrog ahmad\\anaconda3\\Lib\\site-packages\\sklearn\\feature_extraction\\text.py:525: UserWarning: The parameter 'token_pattern' will not be used since 'tokenizer' is not None'\n",
            "  warnings.warn(\n",
            "C:\\Users\\shrog ahmad\\anaconda3\\Lib\\site-packages\\sklearn\\feature_extraction\\text.py:408: UserWarning: Your stop_words may be inconsistent with your preprocessing. Tokenizing the stop words generated tokens ['ha', 'le', 'u', 'wa'] not in stop_words.\n",
            "  warnings.warn(\n"
          ]
        },
        {
          "name": "stdout",
          "output_type": "stream",
          "text": [
            "TF-IDF Matrix:\n",
            " [[0. 0. 0. ... 0. 0. 0.]\n",
            " [0. 0. 0. ... 0. 0. 0.]\n",
            " [0. 0. 0. ... 0. 0. 0.]\n",
            " ...\n",
            " [0. 0. 0. ... 0. 0. 0.]\n",
            " [0. 0. 0. ... 0. 0. 0.]\n",
            " [0. 0. 0. ... 0. 0. 0.]]\n",
            "Feature Names:\n",
            " ['0' '1' '10' ... 'zoster' 'zunich' 'zygomatic']\n"
          ]
        }
      ],
      "source": [
        "# Response Generation by the Bot useing TF-IDF\n",
        "'''\n",
        "The response function takes user_response as input.\n",
        "It uses TF-IDF to vectorize the questions and the user's input.\n",
        "Cosine similarity is computed between the user's input and all questions.\n",
        "The question most similar to the user's input (based on cosine similarity) is found.\n",
        "The bot responds with the answer corresponding to the most similar question.'''\n",
        "\n",
        "def response(user_response):\n",
        "    robo_response = ''\n",
        "    TfidfVec = TfidfVectorizer(tokenizer=LemNormalize, stop_words='english')\n",
        "    tfidf = TfidfVec.fit_transform(questions + [user_response])\n",
        "    vals = cosine_similarity(tfidf[-1], tfidf)\n",
        "    idx = vals.argsort()[0][-2]\n",
        "    flat = vals.flatten()\n",
        "    flat.sort()\n",
        "    req_tfidf = flat[-2]\n",
        "    if req_tfidf == 0:\n",
        "        robo_response = \"I am sorry. Unable to understand you!\"\n",
        "        return robo_response\n",
        "    else:\n",
        "        robo_response = answers[idx]\n",
        "        return robo_response\n",
        "\n",
        "# Print the TF-IDF matrix and feature names\n",
        "TfidfVec = TfidfVectorizer(tokenizer=LemNormalize, stop_words='english')\n",
        "tfidf_matrix = TfidfVec.fit_transform(questions)\n",
        "feature_names = TfidfVec.get_feature_names_out()\n",
        "\n",
        "print(\"TF-IDF Matrix:\\n\", tfidf_matrix.toarray())\n",
        "print(\"Feature Names:\\n\", feature_names)"
      ]
    },
    {
      "cell_type": "markdown",
      "id": "9b0ee7b0",
      "metadata": {
        "id": "9b0ee7b0"
      },
      "source": [
        "### 2- Bag of Words"
      ]
    },
    {
      "cell_type": "code",
      "execution_count": null,
      "id": "652056b4",
      "metadata": {
        "id": "652056b4",
        "outputId": "8f163d5c-3407-4da0-92f9-58f8341d2096"
      },
      "outputs": [
        {
          "name": "stdout",
          "output_type": "stream",
          "text": [
            "  (0, 392)\t1\n",
            "  (0, 1723)\t1\n",
            "  (0, 2215)\t1\n",
            "  (0, 4564)\t1\n",
            "  (1, 747)\t1\n",
            "  (1, 1723)\t1\n",
            "  (1, 4564)\t1\n",
            "  (2, 392)\t1\n",
            "  (2, 1723)\t1\n",
            "  (2, 3090)\t1\n",
            "  (2, 4112)\t1\n",
            "  (2, 4206)\t1\n",
            "  (2, 4564)\t1\n",
            "  (3, 392)\t1\n",
            "  (3, 1592)\t1\n",
            "  (3, 1723)\t1\n",
            "  (3, 4206)\t1\n",
            "  (3, 4318)\t1\n",
            "  (3, 4564)\t1\n",
            "  (4, 392)\t1\n",
            "  (4, 1723)\t1\n",
            "  (4, 2215)\t1\n",
            "  (4, 4564)\t1\n",
            "  (5, 392)\t1\n",
            "  (5, 1723)\t1\n",
            "  :\t:\n",
            "  (16409, 3090)\t1\n",
            "  (16409, 4206)\t1\n",
            "  (16409, 4258)\t1\n",
            "  (16410, 392)\t1\n",
            "  (16410, 1091)\t1\n",
            "  (16410, 1181)\t1\n",
            "  (16410, 1182)\t1\n",
            "  (16410, 1592)\t1\n",
            "  (16410, 2962)\t1\n",
            "  (16410, 2995)\t1\n",
            "  (16410, 3090)\t1\n",
            "  (16410, 4206)\t2\n",
            "  (16410, 4318)\t1\n",
            "  (16410, 4564)\t1\n",
            "  (16411, 1091)\t1\n",
            "  (16411, 1181)\t1\n",
            "  (16411, 1182)\t1\n",
            "  (16411, 1243)\t1\n",
            "  (16411, 1592)\t1\n",
            "  (16411, 2962)\t1\n",
            "  (16411, 2995)\t1\n",
            "  (16411, 3090)\t1\n",
            "  (16411, 4206)\t1\n",
            "  (16411, 4258)\t1\n",
            "  (16411, 4564)\t1\n"
          ]
        }
      ],
      "source": [
        "\n",
        "# Extract the 'question' column as a list\n",
        "text_data = medquad_data['question'].tolist()\n",
        "\n",
        "# Initialize the CountVectorizer\n",
        "vectorizer = CountVectorizer()\n",
        "\n",
        "# Fit the vectorizer to the questions to build the vocabulary\n",
        "vectorizer.fit(text_data)\n",
        "\n",
        "# Transform the questions into a Bag of Words representation\n",
        "bow_model = vectorizer.transform(text_data)\n",
        "\n",
        "# Output the Bag of Words matrix\n",
        "print(bow_model)"
      ]
    },
    {
      "cell_type": "markdown",
      "id": "863ebfa5",
      "metadata": {
        "id": "863ebfa5"
      },
      "source": [
        "### 3- Word Embeddings\n"
      ]
    },
    {
      "cell_type": "code",
      "execution_count": null,
      "id": "e23f8469",
      "metadata": {
        "id": "e23f8469",
        "outputId": "c84b3b43-eb9b-4a20-b59b-90d7dfd1687c"
      },
      "outputs": [
        {
          "name": "stdout",
          "output_type": "stream",
          "text": [
            "Requirement already satisfied: gensim in c:\\users\\shrog ahmad\\anaconda3\\lib\\site-packages (4.3.0)\n",
            "Requirement already satisfied: numpy>=1.18.5 in c:\\users\\shrog ahmad\\anaconda3\\lib\\site-packages (from gensim) (1.24.3)\n",
            "Requirement already satisfied: scipy>=1.7.0 in c:\\users\\shrog ahmad\\anaconda3\\lib\\site-packages (from gensim) (1.10.1)\n",
            "Requirement already satisfied: smart-open>=1.8.1 in c:\\users\\shrog ahmad\\anaconda3\\lib\\site-packages (from gensim) (5.2.1)\n",
            "Collecting FuzzyTM>=0.4.0 (from gensim)\n",
            "  Downloading FuzzyTM-2.0.5-py3-none-any.whl (29 kB)\n",
            "Requirement already satisfied: pandas in c:\\users\\shrog ahmad\\anaconda3\\lib\\site-packages (from FuzzyTM>=0.4.0->gensim) (1.5.3)\n",
            "Collecting pyfume (from FuzzyTM>=0.4.0->gensim)\n",
            "  Downloading pyFUME-0.2.25-py3-none-any.whl (67 kB)\n",
            "     ---------------------------------------- 0.0/67.1 kB ? eta -:--:--\n",
            "     ------------------ --------------------- 30.7/67.1 kB 1.4 MB/s eta 0:00:01\n",
            "     -------------------------------------- 67.1/67.1 kB 917.5 kB/s eta 0:00:00\n",
            "Requirement already satisfied: python-dateutil>=2.8.1 in c:\\users\\shrog ahmad\\anaconda3\\lib\\site-packages (from pandas->FuzzyTM>=0.4.0->gensim) (2.8.2)\n",
            "Requirement already satisfied: pytz>=2020.1 in c:\\users\\shrog ahmad\\anaconda3\\lib\\site-packages (from pandas->FuzzyTM>=0.4.0->gensim) (2022.7)\n",
            "Collecting simpful (from pyfume->FuzzyTM>=0.4.0->gensim)\n",
            "  Obtaining dependency information for simpful from https://files.pythonhosted.org/packages/8d/93/8448d3f1aa9d2911b8cba2602aaa1af85eb31a26d28b7b737f1fa5b40c02/simpful-2.11.1-py3-none-any.whl.metadata\n",
            "  Downloading simpful-2.11.1-py3-none-any.whl.metadata (4.8 kB)\n",
            "Collecting fst-pso (from pyfume->FuzzyTM>=0.4.0->gensim)\n",
            "  Downloading fst-pso-1.8.1.tar.gz (18 kB)\n",
            "  Preparing metadata (setup.py): started\n",
            "  Preparing metadata (setup.py): finished with status 'done'\n",
            "Requirement already satisfied: six>=1.5 in c:\\users\\shrog ahmad\\anaconda3\\lib\\site-packages (from python-dateutil>=2.8.1->pandas->FuzzyTM>=0.4.0->gensim) (1.16.0)\n",
            "Collecting miniful (from fst-pso->pyfume->FuzzyTM>=0.4.0->gensim)\n",
            "  Downloading miniful-0.0.6.tar.gz (2.8 kB)\n",
            "  Preparing metadata (setup.py): started\n",
            "  Preparing metadata (setup.py): finished with status 'done'\n",
            "Downloading simpful-2.11.1-py3-none-any.whl (32 kB)\n",
            "Building wheels for collected packages: fst-pso, miniful\n",
            "  Building wheel for fst-pso (setup.py): started\n",
            "  Building wheel for fst-pso (setup.py): finished with status 'done'\n",
            "  Created wheel for fst-pso: filename=fst_pso-1.8.1-py3-none-any.whl size=20448 sha256=7aa86b9e3cc4ba8d07af6de4bdbc159f7299e5780966f1d1251583d0c1badbe6\n",
            "  Stored in directory: c:\\users\\shrog ahmad\\appdata\\local\\pip\\cache\\wheels\\69\\f5\\e5\\18ad53fe1ed6b2af9fad05ec052e4acbac8e92441df44bad2e\n",
            "  Building wheel for miniful (setup.py): started\n",
            "  Building wheel for miniful (setup.py): finished with status 'done'\n",
            "  Created wheel for miniful: filename=miniful-0.0.6-py3-none-any.whl size=3522 sha256=8f6c284f2ca8739aff3289a34fd2cc842a27d000b177107dd3dbe24294eb6c42\n",
            "  Stored in directory: c:\\users\\shrog ahmad\\appdata\\local\\pip\\cache\\wheels\\9d\\ff\\2f\\afe4cd56f47de147407705626517d68bea0f3b74eb1fb168e6\n",
            "Successfully built fst-pso miniful\n",
            "Installing collected packages: simpful, miniful, fst-pso, pyfume, FuzzyTM\n",
            "Successfully installed FuzzyTM-2.0.5 fst-pso-1.8.1 miniful-0.0.6 pyfume-0.2.25 simpful-2.11.1\n",
            "Note: you may need to restart the kernel to use updated packages.\n"
          ]
        }
      ],
      "source": [
        "#  Install Gensim:\n",
        "    pip install gensim"
      ]
    },
    {
      "cell_type": "code",
      "execution_count": null,
      "id": "0b591c3e",
      "metadata": {
        "id": "0b591c3e",
        "outputId": "d6844ae4-8858-4739-bc3b-36fd6a3258a3"
      },
      "outputs": [
        {
          "name": "stdout",
          "output_type": "stream",
          "text": [
            "Question 1: What is Glaucoma?\n",
            "Average Embedding: [ 0.23636     0.573565   -0.2089975  -0.04446501  0.595435    0.18483499\n",
            " -0.20055805 -0.499      -0.07567501  0.19669999 -0.096525    0.445625\n",
            " -0.25613448 -0.17215274  0.76432     0.55493     0.456495    0.48823\n",
            " -0.08011815 -0.235405   -0.58788     0.03782     0.283073    0.45153\n",
            "  0.351825   -2.0533     -0.94665504  0.49898     0.776923   -0.508677\n",
            "  3.3137002  -0.13578    -0.497205   -0.22525999 -0.1485275  -0.23476\n",
            "  0.12729     0.072524    0.43247    -0.32975    -0.14441651  0.23115\n",
            " -0.10849999  0.3431845  -0.13431     0.21119    -0.0827305  -0.34512502\n",
            "  0.209765    0.826535  ]\n",
            "\n",
            "Question 2: What causes Glaucoma?\n",
            "Average Embedding: [ 5.15460014e-01  5.16899943e-01  2.28399504e-02 -3.25444996e-01\n",
            "  5.35999984e-02  8.94789994e-01  1.99015006e-01 -1.29855007e-01\n",
            "  2.46609986e-01  3.10429990e-01 -1.24695003e-01  3.24276507e-01\n",
            " -8.53649974e-02 -7.05327466e-02  7.35159993e-01  2.45141491e-01\n",
            "  1.11295007e-01 -2.31650025e-02 -1.20503150e-01 -4.56915021e-01\n",
            " -6.16535008e-01 -6.37799948e-02  5.67285001e-01  1.18680000e-01\n",
            "  4.85044986e-01 -1.62310004e+00 -9.00629997e-01  6.86900020e-02\n",
            "  1.09853995e+00 -4.45849895e-02  2.72714996e+00  4.74550009e-01\n",
            " -2.88734972e-01 -5.62385023e-01 -6.61514997e-01 -7.97780007e-02\n",
            "  4.79999930e-04 -2.60580987e-01  7.39735007e-01 -5.64550012e-02\n",
            " -3.20304990e-01  1.08113497e-01 -1.08569995e-01  6.69094980e-01\n",
            "  5.68054974e-01  1.95435002e-01 -5.24154976e-02 -2.44444996e-01\n",
            "  1.76629990e-01  6.35049999e-01]\n",
            "\n",
            "Question 3: What are the symptoms of Glaucoma?\n",
            "Average Embedding: [ 0.75887597  0.3251852  -0.27039897 -0.20366201  0.137664    0.39958265\n",
            " -0.09336999 -0.291456   -0.09267005 -0.111432    0.18945217  0.045988\n",
            " -0.06205001 -0.2743667   0.4940301   0.2971716  -0.23488896 -0.0710598\n",
            " -0.31269723 -0.39483482 -0.42578822  0.006872    0.5815582   0.0800098\n",
            "  0.103028   -1.449374   -0.829074    0.1326942   0.2517876  -0.211204\n",
            "  3.45184     0.45125002 -0.04855599 -0.66420597  0.11325643  0.04523026\n",
            "  0.075372   -0.06176556  0.2156802   0.10073739 -0.447026    0.102807\n",
            "  0.1013214   0.48151702  0.281852    0.23955801 -0.05759522 -0.05521401\n",
            " -0.06957559 -0.06753399]\n",
            "\n"
          ]
        }
      ],
      "source": [
        "\n",
        "model = api.load('glove-wiki-gigaword-50')  # smaller model for demonstration\n",
        "\n",
        "# Example text data\n",
        "text_data = [\"What is Glaucoma?\", \"What causes Glaucoma?\", \"What are the symptoms of Glaucoma?\"]\n",
        "\n",
        "# Process text data to get embeddings\n",
        "processed_data = []\n",
        "for question in text_data:\n",
        "    tokenized_question = word_tokenize(question)\n",
        "    question_embeddings = [model[word] for word in tokenized_question if word in model]\n",
        "    if question_embeddings:\n",
        "        # Averaging the word embeddings for each question\n",
        "        avg_embedding = np.mean(question_embeddings, axis=0)\n",
        "        processed_data.append(avg_embedding)\n",
        "\n",
        "# Print the processed data (average embeddings for each question)\n",
        "for i, embedding in enumerate(processed_data):\n",
        "    print(f\"Question {i+1}: {text_data[i]}\")\n",
        "    print(f\"Average Embedding: {embedding}\\n\")\n",
        "\n",
        "\n"
      ]
    },
    {
      "cell_type": "markdown",
      "id": "b4678375",
      "metadata": {
        "id": "b4678375"
      },
      "source": [
        "# Defining the Chat Flow"
      ]
    },
    {
      "cell_type": "code",
      "execution_count": null,
      "id": "71f42c1a",
      "metadata": {
        "id": "71f42c1a",
        "outputId": "bd292700-97d2-4312-c68b-0104e38319ac"
      },
      "outputs": [
        {
          "name": "stdout",
          "output_type": "stream",
          "text": [
            "Hello! I am the Medical Learning Bot. Ask me a medical question.\n",
            "hi\n",
            "Dr.AnswerBot: Hello! Please ask a medical question.\n",
            "What are the treatments for Nonalcoholic Steatohepatitis ?\n",
            "Dr.AnswerBot: Currently, no specific therapies for NASH exist. The most important recommendations given to persons with this disease are to\n",
            "                \n",
            "- reduce their weight (if obese or overweight)  - follow a balanced and healthy diet  - increase physical activity  - avoid alcohol  - avoid unnecessary medications\n",
            "                \n",
            "These are standard recommendations, but they can make a difference. They are also helpful for other conditions, such as heart disease, diabetes, and high cholesterol.\n",
            "                \n",
            "A major attempt should be made to lower body weight into the healthy range. Weight loss can improve liver tests in patients with NASH and may reverse the disease to some extent. Research at present is focusing on how much weight loss improves the liver in patients with NASH and whether this improvement lasts over a period of time.\n",
            "                \n",
            "People with NASH often have other medical conditions, such as diabetes, high blood pressure, or elevated cholesterol. These conditions should be treated with medication and adequately controlled; having NASH or elevated liver enzymes should not lead people to avoid treating these other conditions.\n",
            "                \n",
            "Experimental approaches under evaluation in patients with NASH include antioxidants, such as vitamin E, selenium, and betaine. These medications act by reducing the oxidative stress that appears to increase inside the liver in patients with NASH. Whether these substances actually help treat the disease is not known, but the results of clinical trials should become available in the next few years.\n",
            "                \n",
            "Another experimental approach to treating NASH is the use of newer antidiabetic medicationseven in persons without diabetes. Most patients with NASH have insulin resistance, meaning that the insulin normally present in the bloodstream is less effective for them in controlling blood glucose and fatty acids in the blood than it is for people who do not have NASH. The newer antidiabetic medications make the body more sensitive to insulin and may help reduce liver injury in patients with NASH. Studies of these medicationsincluding metformin, rosiglitazone, and pioglitazoneare being sponsored by the National Institutes of Health and should answer the question of whether these medications are beneficial in NASH.\n",
            "What is (are) Glaucoma ?\n",
            "Dr.AnswerBot: Glaucoma is a group of diseases that can damage the eye's optic nerve. It is a leading cause of blindness in the United States. It usually happens when the fluid pressure inside the eyes slowly rises, damaging the optic nerve. Often there are no symptoms at first. Without treatment, people with glaucoma will slowly lose their peripheral, or side vision. They seem to be looking through a tunnel. Over time, straight-ahead vision may decrease until no vision remains.    A comprehensive eye exam can tell if you have glaucoma. People at risk should get eye exams at least every two years. They include       -  African Americans over age 40    -  People over age 60, especially Mexican Americans    -  People with a family history of glaucoma       There is no cure, but glaucoma can usually be controlled. Early treatment can help protect your eyes against vision loss. Treatments usually include prescription eyedrops and/or surgery.    NIH: National Eye Institute\n",
            "bye\n",
            "Dr.AnswerBot: Goodbye!\n"
          ]
        }
      ],
      "source": [
        "''' The code calculates the cosine similarity between\n",
        "the TF-IDF vectors of the user's\n",
        "input and the questions in the dataset'''\n",
        "\n",
        "# Defining the Chat Flow\n",
        "flag = True\n",
        "print('Hello! I am the Medical Learning Bot. Ask me a medical question.')\n",
        "while flag:\n",
        "    user_response = input().lower()\n",
        "    if user_response in ['bye', 'exit', 'quit']:\n",
        "        flag = False\n",
        "        print('Dr.AnswerBot: Goodbye!')\n",
        "    elif user_response in ['hi', 'hello', 'hey']:\n",
        "        print('Dr.AnswerBot: Hello! Please ask a medical question.')\n",
        "    else:\n",
        "        print('Dr.AnswerBot: ', end='')\n",
        "        print(response(user_response))\n"
      ]
    },
    {
      "cell_type": "markdown",
      "id": "d3788914",
      "metadata": {
        "id": "d3788914"
      },
      "source": [
        "# References"
      ]
    },
    {
      "cell_type": "markdown",
      "id": "7d1b73f4",
      "metadata": {
        "id": "7d1b73f4"
      },
      "source": [
        "#### Source of Dataset\n",
        " (Healthcare NLP: LLMs, Transformers, Datasets, 2023): LLMs, Transformers, Datasets. (2023, June 26). Kaggle. https://www.kaggle.com/datasets/jpmiller/layoutlm/\n"
      ]
    },
    {
      "cell_type": "markdown",
      "id": "feddd5ab",
      "metadata": {
        "id": "feddd5ab"
      },
      "source": [
        "Bhavsar, S., & Bhavsar, S. (2021, January 8). Building a Chatbot in Python. datamahadev.com. https://datamahadev.com/building-a-chatbot-in-python/\n"
      ]
    },
    {
      "cell_type": "markdown",
      "id": "4644e5dc",
      "metadata": {
        "id": "4644e5dc"
      },
      "source": [
        "Intellipaat. (n.d.). https://www.youtube.com/live/JzPgeRJfNo4?si=4-Ruo7s224PaO5qN"
      ]
    },
    {
      "cell_type": "markdown",
      "id": "023c93af",
      "metadata": {
        "id": "023c93af"
      },
      "source": [
        "Hickman, L., Thapa, S., Tay, L., Cao, M., & Srinivasan, P. (2022). Text\n",
        "preprocessing for text mining in organizational research: Review and\n",
        "recommendations. Organizational Research Methods, 25(1), 114-146."
      ]
    },
    {
      "cell_type": "markdown",
      "id": "41a6fcd9",
      "metadata": {
        "id": "41a6fcd9"
      },
      "source": [
        "### github"
      ]
    },
    {
      "cell_type": "markdown",
      "id": "10ff0879",
      "metadata": {
        "id": "10ff0879"
      },
      "source": [
        "S. (n.d.). GitHub - shrouqaldd/Medical-Chatbot-using-NLP: This repository contains the code and resources for developing a medical chatbot using Natural Language Processing (NLP) techniques. The chatbot aims to provide instant, accurate, and reliable medical information to users, bridging the gap in healthcare accessibility and knowledge. GitHub. https://github.com/shrouqaldd/Medical-Chatbot-using-NLP"
      ]
    },
    {
      "cell_type": "code",
      "source": [],
      "metadata": {
        "id": "jswksn7MsKcB"
      },
      "id": "jswksn7MsKcB",
      "execution_count": null,
      "outputs": []
    }
  ],
  "metadata": {
    "kernelspec": {
      "display_name": "Python 3 (ipykernel)",
      "language": "python",
      "name": "python3"
    },
    "language_info": {
      "codemirror_mode": {
        "name": "ipython",
        "version": 3
      },
      "file_extension": ".py",
      "mimetype": "text/x-python",
      "name": "python",
      "nbconvert_exporter": "python",
      "pygments_lexer": "ipython3",
      "version": "3.11.4"
    },
    "colab": {
      "provenance": []
    }
  },
  "nbformat": 4,
  "nbformat_minor": 5
}